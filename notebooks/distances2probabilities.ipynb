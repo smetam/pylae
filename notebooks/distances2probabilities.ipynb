{
 "cells": [
  {
   "cell_type": "markdown",
   "metadata": {},
   "source": [
    "## Exploring conversion from distance matrix to probabilities of changing the hidden state in Forward-Backward algorithm"
   ]
  },
  {
   "cell_type": "code",
   "execution_count": 1,
   "metadata": {},
   "outputs": [],
   "source": [
    "import pandas as pd\n",
    "import numpy as np\n",
    "\n",
    "from copy import deepcopy"
   ]
  },
  {
   "cell_type": "code",
   "execution_count": 9,
   "metadata": {},
   "outputs": [
    {
     "name": "stdout",
     "output_type": "stream",
     "text": [
      "[[0.    0.068 0.061 0.007 0.082 0.084 0.069 0.033 0.084]\n",
      " [0.068 0.    0.046 0.068 0.098 0.113 0.085 0.071 0.113]\n",
      " [0.061 0.046 0.    0.061 0.091 0.106 0.077 0.064 0.106]\n",
      " [0.007 0.068 0.061 0.    0.082 0.084 0.068 0.032 0.084]\n",
      " [0.082 0.098 0.091 0.082 0.    0.127 0.09  0.085 0.127]\n",
      " [0.084 0.113 0.106 0.084 0.127 0.    0.114 0.087 0.06 ]\n",
      " [0.069 0.085 0.077 0.068 0.09  0.114 0.    0.072 0.114]\n",
      " [0.033 0.071 0.064 0.032 0.085 0.087 0.072 0.    0.087]\n",
      " [0.084 0.113 0.106 0.084 0.127 0.06  0.114 0.087 0.   ]]\n"
     ]
    }
   ],
   "source": [
    "df = pd.read_csv('../configs/matrix.csv', sep=';', index_col=0)\n",
    "sorted_header = list(sorted(list(df)))\n",
    "df = df.sort_index()[sorted_header]\n",
    "print(np.around(df.values, 3))"
   ]
  },
  {
   "cell_type": "markdown",
   "metadata": {},
   "source": [
    "### The aim is to convert distances between populations into probabilities"
   ]
  },
  {
   "cell_type": "code",
   "execution_count": 3,
   "metadata": {},
   "outputs": [],
   "source": [
    "def probability_gen(df, scale=3):\n",
    "    for i, pop in enumerate(list(df)):\n",
    "        row = deepcopy(df[pop].values)\n",
    "        # set distance between population and itself from 0 to (1/3 * minimum)\n",
    "        row[i] = np.min(row[np.nonzero(row)]) / scale\n",
    "        s = np.log(row)\n",
    "        s = s / np.sum(s)\n",
    "        yield np.around(s, 3)"
   ]
  },
  {
   "cell_type": "code",
   "execution_count": 4,
   "metadata": {},
   "outputs": [
    {
     "data": {
      "text/plain": [
       "array([[0.2  , 0.09 , 0.094, 0.164, 0.084, 0.083, 0.089, 0.114, 0.083],\n",
       "       [0.11 , 0.171, 0.126, 0.11 , 0.095, 0.089, 0.101, 0.108, 0.089],\n",
       "       [0.112, 0.123, 0.166, 0.112, 0.096, 0.09 , 0.102, 0.11 , 0.09 ],\n",
       "       [0.164, 0.09 , 0.094, 0.2  , 0.084, 0.083, 0.089, 0.114, 0.083],\n",
       "       [0.112, 0.104, 0.107, 0.112, 0.161, 0.092, 0.108, 0.11 , 0.092],\n",
       "       [0.109, 0.096, 0.099, 0.109, 0.091, 0.172, 0.095, 0.107, 0.123],\n",
       "       [0.114, 0.105, 0.109, 0.114, 0.102, 0.092, 0.16 , 0.112, 0.092],\n",
       "       [0.128, 0.099, 0.103, 0.128, 0.092, 0.091, 0.099, 0.169, 0.091],\n",
       "       [0.109, 0.096, 0.099, 0.109, 0.091, 0.123, 0.095, 0.107, 0.172]])"
      ]
     },
     "execution_count": 4,
     "metadata": {},
     "output_type": "execute_result"
    }
   ],
   "source": [
    "g = probability_gen(df)\n",
    "matrix = np.vstack(tuple(g))\n",
    "matrix"
   ]
  },
  {
   "cell_type": "code",
   "execution_count": 7,
   "metadata": {},
   "outputs": [
    {
     "data": {
      "text/plain": [
       "0.112"
      ]
     },
     "execution_count": 7,
     "metadata": {},
     "output_type": "execute_result"
    }
   ],
   "source": [
    "state_matrix = np.array(\n",
    "    [[0.2  , 0.09 , 0.094, 0.164, 0.084, 0.083, 0.089, 0.114, 0.083],\n",
    "     [0.11 , 0.171, 0.126, 0.11 , 0.095, 0.089, 0.101, 0.108, 0.089],\n",
    "     [0.112, 0.123, 0.166, 0.112, 0.096, 0.09 , 0.102, 0.11 , 0.09 ],\n",
    "     [0.164, 0.09 , 0.094, 0.2  , 0.084, 0.083, 0.089, 0.114, 0.083],\n",
    "     [0.112, 0.104, 0.107, 0.112, 0.161, 0.092, 0.108, 0.11 , 0.092],\n",
    "     [0.109, 0.096, 0.099, 0.109, 0.091, 0.172, 0.095, 0.107, 0.123],\n",
    "     [0.114, 0.105, 0.109, 0.114, 0.102, 0.092, 0.16 , 0.112, 0.092],\n",
    "     [0.128, 0.099, 0.103, 0.128, 0.092, 0.091, 0.099, 0.169, 0.091],\n",
    "     [0.109, 0.096, 0.099, 0.109, 0.091, 0.123, 0.095, 0.107, 0.172]]\n",
    ")\n",
    "state_matrix[2, 3]"
   ]
  },
  {
   "cell_type": "code",
   "execution_count": 26,
   "metadata": {},
   "outputs": [],
   "source": [
    "import pathlib"
   ]
  },
  {
   "cell_type": "code",
   "execution_count": 28,
   "metadata": {},
   "outputs": [
    {
     "name": "stdout",
     "output_type": "stream",
     "text": [
      "../configs\n"
     ]
    }
   ],
   "source": [
    "p = pathlib.Path('../configs/matrix.csv')\n",
    "print(p.parent)"
   ]
  },
  {
   "cell_type": "code",
   "execution_count": 29,
   "metadata": {},
   "outputs": [
    {
     "data": {
      "text/plain": [
       "'matrix.csv'"
      ]
     },
     "execution_count": 29,
     "metadata": {},
     "output_type": "execute_result"
    }
   ],
   "source": [
    "p.name\n"
   ]
  },
  {
   "cell_type": "code",
   "execution_count": null,
   "metadata": {},
   "outputs": [],
   "source": []
  }
 ],
 "metadata": {
  "kernelspec": {
   "display_name": "Python 3",
   "language": "python",
   "name": "python3"
  },
  "language_info": {
   "codemirror_mode": {
    "name": "ipython",
    "version": 3
   },
   "file_extension": ".py",
   "mimetype": "text/x-python",
   "name": "python",
   "nbconvert_exporter": "python",
   "pygments_lexer": "ipython3",
   "version": "3.7.4"
  }
 },
 "nbformat": 4,
 "nbformat_minor": 2
}
