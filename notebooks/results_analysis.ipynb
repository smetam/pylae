{
 "cells": [
  {
   "cell_type": "markdown",
   "metadata": {},
   "source": [
    "## Results analysis"
   ]
  },
  {
   "cell_type": "code",
   "execution_count": 8,
   "metadata": {},
   "outputs": [],
   "source": [
    "import pandas as pd\n",
    "import numpy as np"
   ]
  },
  {
   "cell_type": "markdown",
   "metadata": {},
   "source": [
    "## Overall stats"
   ]
  },
  {
   "cell_type": "code",
   "execution_count": 9,
   "metadata": {},
   "outputs": [
    {
     "name": "stdout",
     "output_type": "stream",
     "text": [
      "                      bayes   softmax        fb\n",
      "Mediterranean      0.085809  0.074257  0.118812\n",
      "NativeAmerican     0.648515  0.636964  0.605611\n",
      "NorthEastAsian     0.046205  0.052805  0.061056\n",
      "NorthernEuropean   0.118812  0.110561  0.084158\n",
      "Oceanian           0.033003  0.033003  0.021452\n",
      "SouthAfrican       0.014851  0.019802  0.001650\n",
      "SouthEastAsian     0.028053  0.031353  0.021452\n",
      "SouthWestAsian     0.013201  0.026403  0.049505\n",
      "SubsaharanAfrican  0.011551  0.014851  0.036304\n"
     ]
    }
   ],
   "source": [
    "df_b = pd.read_csv('../data/quechua_candelaria/QuechuaCandelaria_3_bayes_200_stats.csv', header=0, names=['bayes'], index_col=0)\n",
    "df_s = pd.read_csv('../data/quechua_candelaria/QuechuaCandelaria_3_softmax_200_stats.csv', header=0, names=['softmax'], index_col=0)\n",
    "df_f = pd.read_csv('../data/quechua_candelaria/QuechuaCandelaria_3_fb_200_stats.csv', header=0, names=['fb'], index_col=0)\n",
    "df = pd.DataFrame({'bayes': df_b['bayes'], 'softmax': df_s['softmax'], 'fb': df_f['fb'], })\n",
    "print(df)"
   ]
  },
  {
   "cell_type": "markdown",
   "metadata": {},
   "source": [
    "## Predictions over windows with length 200"
   ]
  },
  {
   "cell_type": "code",
   "execution_count": 16,
   "metadata": {},
   "outputs": [
    {
     "name": "stdout",
     "output_type": "stream",
     "text": [
      "True     448\n",
      "False    157\n",
      "Name: match, dtype: int64\n"
     ]
    }
   ],
   "source": [
    "df_b = pd.read_csv('../data/quechua_candelaria/QuechuaCandelaria_3_bayes_200_predictions.csv', header=0, names=['bayes'])\n",
    "df_s = pd.read_csv('../data/quechua_candelaria/QuechuaCandelaria_3_softmax_200_predictions.csv', header=0, names=['softmax'])\n",
    "df_f = pd.read_csv('../data/quechua_candelaria/QuechuaCandelaria_3_fb_200_predictions.csv', header=0, names=['fb'])\n",
    "df = pd.DataFrame({'bayes': df_b['bayes'], 'softmax': df_s['softmax'], 'fb': df_f['fb'], })\n",
    "df[\"match\"] = (df[\"bayes\"] == df[\"softmax\"]) & (df[\"bayes\"] == df[\"fb\"])\n",
    "print(df['match'].value_counts())"
   ]
  },
  {
   "cell_type": "markdown",
   "metadata": {},
   "source": [
    "Around 75% of predictions are the same for all algorithms."
   ]
  },
  {
   "cell_type": "code",
   "execution_count": null,
   "metadata": {},
   "outputs": [],
   "source": []
  }
 ],
 "metadata": {
  "kernelspec": {
   "display_name": "Python 3",
   "language": "python",
   "name": "python3"
  },
  "language_info": {
   "codemirror_mode": {
    "name": "ipython",
    "version": 3
   },
   "file_extension": ".py",
   "mimetype": "text/x-python",
   "name": "python",
   "nbconvert_exporter": "python",
   "pygments_lexer": "ipython3",
   "version": "3.7.4"
  }
 },
 "nbformat": 4,
 "nbformat_minor": 2
}
